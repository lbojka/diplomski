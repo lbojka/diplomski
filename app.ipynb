{
 "cells": [
  {
   "cell_type": "markdown",
   "metadata": {},
   "source": [
    "# Pizza Talk"
   ]
  },
  {
   "cell_type": "markdown",
   "metadata": {},
   "source": [
    "### Učitavanje i obrada podataka"
   ]
  },
  {
   "cell_type": "code",
   "execution_count": 4,
   "metadata": {},
   "outputs": [],
   "source": [
    "import pandas as pd\n",
    "from sklearn.feature_extraction.text import TfidfVectorizer\n",
    "\n",
    "netflix_data = pd.read_csv(\"netflix_titles.csv\")"
   ]
  },
  {
   "cell_type": "code",
   "execution_count": 5,
   "metadata": {},
   "outputs": [],
   "source": [
    "tfidf = TfidfVectorizer(\n",
    "    stop_words=\"english\"\n",
    ")  # lista uobicajenih rijeci kao \"and, the, of, a...\"\n",
    "netflix_data[\"description\"] = netflix_data[\"description\"].fillna(\n",
    "    \"\"\n",
    ")  # mijenja null vrijednosti s ''\n",
    "tfidf_matrix = tfidf.fit_transform(\n",
    "    netflix_data[\"description\"]\n",
    ")  # Transformira podatke u podatke koje ML može čitati"
   ]
  },
  {
   "cell_type": "code",
   "execution_count": 6,
   "metadata": {},
   "outputs": [
    {
     "name": "stdout",
     "output_type": "stream",
     "text": [
      "  (0, 8490)\t0.33696767624101076\n",
      "  (0, 6082)\t0.20054299311773363\n",
      "  (0, 7801)\t0.16463147802014286\n",
      "  (0, 18310)\t0.22720271728772545\n",
      "  (0, 3464)\t0.3109717601819953\n",
      "  (0, 8758)\t0.3109717601819953\n",
      "  (0, 4344)\t0.18158280908846863\n",
      "  (0, 15937)\t0.27919454940575633\n",
      "  (0, 9031)\t0.3178095805166836\n",
      "  (0, 9347)\t0.35217431230742974\n",
      "  (0, 6376)\t0.22926768903690262\n",
      "  (0, 9766)\t0.12590836562639762\n",
      "  (0, 5596)\t0.2239952783710916\n",
      "  (0, 11313)\t0.30519046546477174\n",
      "  (0, 6209)\t0.16254396363689053\n",
      "  (1, 1937)\t0.27212415659761124\n",
      "  (1, 274)\t0.29671049220771517\n",
      "  (1, 15364)\t0.22219743512973616\n",
      "  (1, 15967)\t0.20679030022301806\n",
      "  (1, 16504)\t0.33933141195060634\n",
      "  (1, 14720)\t0.17558231498361754\n",
      "  (1, 12993)\t0.2671575311220847\n",
      "  (1, 13140)\t0.24719854905058733\n",
      "  (1, 15002)\t0.21314343523578164\n",
      "  (1, 16741)\t0.19305859063422645\n",
      "  :\t:\n",
      "  (8805, 18779)\t0.32697739216424\n",
      "  (8805, 12899)\t0.30175219271864745\n",
      "  (8805, 6142)\t0.27969353481020137\n",
      "  (8805, 18061)\t0.2736140574322149\n",
      "  (8805, 10743)\t0.2375712002433888\n",
      "  (8805, 3198)\t0.29614229953524723\n",
      "  (8805, 16358)\t0.24981618877499934\n",
      "  (8805, 14655)\t0.3165079884675312\n",
      "  (8805, 1279)\t0.22112243551834287\n",
      "  (8805, 17226)\t0.23363306223773864\n",
      "  (8805, 11390)\t0.12928492444271666\n",
      "  (8805, 9766)\t0.1221754843177763\n",
      "  (8806, 18624)\t0.3783838592002579\n",
      "  (8806, 5301)\t0.3180706370188299\n",
      "  (8806, 12739)\t0.2937235486221651\n",
      "  (8806, 6232)\t0.310593983417224\n",
      "  (8806, 17413)\t0.24915065111874637\n",
      "  (8806, 11151)\t0.22933437145252988\n",
      "  (8806, 17495)\t0.3180706370188299\n",
      "  (8806, 14790)\t0.3305867614726445\n",
      "  (8806, 6093)\t0.292196837825544\n",
      "  (8806, 2222)\t0.21474610331745828\n",
      "  (8806, 18306)\t0.2165537671977878\n",
      "  (8806, 12220)\t0.21064547762075295\n",
      "  (8806, 6144)\t0.15819547806784132\n"
     ]
    }
   ],
   "source": [
    "print(tfidf_matrix)"
   ]
  },
  {
   "cell_type": "code",
   "execution_count": 8,
   "metadata": {},
   "outputs": [],
   "source": [
    "from sklearn.metrics.pairwise import linear_kernel\n",
    "\n",
    "cosine_sim = linear_kernel(\n",
    "    tfidf_matrix, tfidf_matrix\n",
    ")  # izračunava kosinus slicnost tako da odvaja podatke s linijama i tako ih grupira prema njihovim svojstvima\n",
    "\n",
    "indices = pd.Series(\n",
    "    netflix_data.index, index=netflix_data[\"title\"]\n",
    ").drop_duplicates()  # uklanja duplikate po Naslovu"
   ]
  },
  {
   "cell_type": "code",
   "execution_count": 10,
   "metadata": {},
   "outputs": [
    {
     "name": "stdout",
     "output_type": "stream",
     "text": [
      "[[1.         0.         0.         ... 0.         0.01538292 0.        ]\n",
      " [0.         1.         0.         ... 0.         0.         0.        ]\n",
      " [0.         0.         1.         ... 0.         0.         0.02230089]\n",
      " ...\n",
      " [0.         0.         0.         ... 1.         0.         0.        ]\n",
      " [0.01538292 0.         0.         ... 0.         1.         0.        ]\n",
      " [0.         0.         0.02230089 ... 0.         0.         1.        ]]\n"
     ]
    }
   ],
   "source": [
    "print(cosine_sim)"
   ]
  },
  {
   "cell_type": "code",
   "execution_count": 48,
   "metadata": {},
   "outputs": [],
   "source": [
    "def dohvati_preporuke(naslov, cosine_sim=cosine_sim):\n",
    "    idx = indices[naslov]\n",
    "    sim_scores = list(\n",
    "        enumerate(cosine_sim[idx])\n",
    "    )  # Dohvaca rezultate parova sličnosti svih filmova s ​​tim filmom\n",
    "    sim_scores = sorted(\n",
    "        sim_scores, key=lambda x: x[1], reverse=True\n",
    "    )  # Sortira filmove prema parovima sličnosti\n",
    "    sim_scores = sim_scores[1:11]  # dohvaća rezultate 10 najsličnijih filmova\n",
    "    movie_indices = [i[0] for i in sim_scores]  # dohvaća filmske indekse\n",
    "    return netflix_data.iloc[movie_indices]  # vraća top 10 najsličnijih filmova"
   ]
  },
  {
   "cell_type": "markdown",
   "metadata": {},
   "source": [
    "### Dohvaćanje filmskih postera sa API-a"
   ]
  },
  {
   "cell_type": "code",
   "execution_count": 2,
   "metadata": {},
   "outputs": [],
   "source": [
    "from movieposters import get_poster, errors\n",
    "import streamlit as st\n",
    "\n",
    "\n",
    "def prikazi_filmske_postere(df):\n",
    "    naslovi_filmova = df[\"title\"].tolist()\n",
    "\n",
    "    stupci = 3\n",
    "\n",
    "    cols = st.columns(stupci)\n",
    "\n",
    "    # Iterate over the movie titles and display their posters in the grid\n",
    "    for index, film in enumerate(naslovi_filmova):\n",
    "        try:\n",
    "            # Fetch the poster URL for the movie\n",
    "            poster_url = get_poster(film)\n",
    "\n",
    "            cols[index % stupci].image(\n",
    "                poster_url,\n",
    "                caption=film,\n",
    "                width=150,\n",
    "            )\n",
    "        except (errors.PosterNotFound, errors.MovieNotFound):\n",
    "            cols[index % stupci].image(\"movieThumbnail.png\", caption=film, width=150)"
   ]
  },
  {
   "cell_type": "markdown",
   "metadata": {},
   "source": [
    "### Dohvaćanje nasumičnih filmova žanra"
   ]
  },
  {
   "cell_type": "code",
   "execution_count": null,
   "metadata": {},
   "outputs": [],
   "source": [
    "def nasumicni_filmovi_zanra(zanr):\n",
    "    # Filtrira DataFrame prema danom zanru\n",
    "    filtrirani_podaci = netflix_data[\n",
    "        netflix_data[\"listed_in\"].str.contains(zanr, case=False, na=False)\n",
    "    ]\n",
    "\n",
    "    # Ako postoji manje filmova od broja trazenih, vrati ih sve\n",
    "    if len(filtrirani_podaci) < 6:\n",
    "        return filtrirani_podaci[\"title\"].tolist()\n",
    "\n",
    "    # Nasumicno odabire 6 filmova i vraca njihove naslove\n",
    "    return filtrirani_podaci.sample(n=6)[\"title\"].tolist()"
   ]
  },
  {
   "cell_type": "markdown",
   "metadata": {},
   "source": [
    "### Kreiranje niza film-žanrovi"
   ]
  },
  {
   "cell_type": "code",
   "execution_count": 50,
   "metadata": {},
   "outputs": [],
   "source": [
    "lista_naslova = netflix_data[\"title\"].values\n",
    "naslov_zanr = {}\n",
    "for naslov, zanrovi in zip(netflix_data[\"title\"], netflix_data[\"listed_in\"]):\n",
    "    naslov_zanr[naslov] = [zanr.strip() for zanr in zanrovi.split(\",\")]"
   ]
  },
  {
   "cell_type": "markdown",
   "metadata": {},
   "source": [
    "## Streamlit"
   ]
  },
  {
   "cell_type": "markdown",
   "metadata": {},
   "source": [
    "### Konfiguracija aplikacije"
   ]
  },
  {
   "cell_type": "code",
   "execution_count": 1,
   "metadata": {},
   "outputs": [],
   "source": [
    "import streamlit as st\n",
    "\n",
    "# Konfiguracija aplikacije - ikona i tekst taba, About sekcija u meniju\n",
    "st.set_page_config(\n",
    "    page_title=\"Diplomski rad - Luka Bojka\",\n",
    "    page_icon=\"🎞️\",\n",
    "    menu_items={\n",
    "        \"About\": \"# Sustav preporuke filmova.\\n\"\n",
    "        \"Web-aplikacija napravljena za potrebe diplomskog rada na temu 'Razvoj sustava preporuke sadržaja i personalizacije korisničkog sučelja web-aplikacije korištenjem metoda umjetne inteligencije'.\"\n",
    "    },\n",
    ")"
   ]
  },
  {
   "cell_type": "markdown",
   "metadata": {},
   "source": [
    "### User Authentication"
   ]
  },
  {
   "cell_type": "code",
   "execution_count": null,
   "metadata": {},
   "outputs": [],
   "source": [
    "import streamlit as st\n",
    "from pathlib import Path\n",
    "import pickle\n",
    "import os\n",
    "import streamlit_authenticator as stauth\n",
    "\n",
    "imena = [\"Luka Bojka\", \"Ivo Ivic\", \"Pero Peric\", \"Ana Anic\"]\n",
    "korImena = [\"lbojka\", \"iivic\", \"pperic\", \"aanic\"]\n",
    "\n",
    "# Učitavanje hash lozinki\n",
    "file_path = Path(os.path.join(os.path.dirname(os.path.abspath(\"__file__\")), \"hashed_pw.pkl\"))\n",
    "with file_path.open(\"rb\") as file:\n",
    "    hashed_passwords = pickle.load(file)\n",
    "\n",
    "autentikator = stauth.Authenticate(\n",
    "    imena, korImena, hashed_passwords, \"filmIT\", \"abcdef\", cookie_expiry_days=30\n",
    ")\n",
    "ime, autentikacija_status, korIme = autentikator.login(\"Prijava\", \"main\")\n",
    "if autentikacija_status == False:\n",
    "    st.error(\"Korisničko ime ili lozinka su krivo uneseni!\")\n",
    "if autentikacija_status == None:\n",
    "    st.warning(\"Unesite korisničko ime i lozinku!\")"
   ]
  },
  {
   "cell_type": "markdown",
   "metadata": {},
   "source": [
    "### Stranica"
   ]
  },
  {
   "cell_type": "code",
   "execution_count": null,
   "metadata": {},
   "outputs": [],
   "source": [
    "import base64\n",
    "from streamlit_lottie import st_lottie\n",
    "import json\n",
    "from my_db import *\n",
    "from personalization import *\n",
    "\n",
    "\n",
    "def autoplay_audio(file_path: str):\n",
    "    with open(file_path, \"rb\") as f:\n",
    "        data = f.read()\n",
    "        b64 = base64.b64encode(data).decode()\n",
    "        mute = st.checkbox(\"Ugasi pozadinsku glazbu\")\n",
    "        if not mute:\n",
    "            md = f\"\"\"\n",
    "                <audio id=\"backgroundMusic\" autoplay=\"true\" loop>\n",
    "                <source src=\"data:audio/mp3;base64,{b64}\" type=\"audio/mp3\">\n",
    "                </audio>\n",
    "                \"\"\"\n",
    "            st.markdown(\n",
    "                md,\n",
    "                unsafe_allow_html=True,\n",
    "            )\n",
    "\n",
    "\n",
    "def ucitaj_loattiefile(filepath: str):\n",
    "    with open(filepath, \"r\") as f:\n",
    "        return json.load(f)\n",
    "\n",
    "\n",
    "def stranica(autentikator, korIme):\n",
    "    st.title(\"FilmIT\")\n",
    "    st.write(\"### Najbolja stranica za pregled filmova\")\n",
    "    st.sidebar.title(f\"Dobrodošao {korIme}\")\n",
    "    autentikator.logout(\"Odjava\", \"sidebar\")\n",
    "\n",
    "    ostavi_zadnjih_20_zanrova_korisika(korIme)\n",
    "    najgledaniji_zanr_korisnika = najgledaniji_zanr(korIme)\n",
    "\n",
    "    if najgledaniji_zanr_korisnika:\n",
    "        atributi = atributi_zanra.get(najgledaniji_zanr_korisnika)\n",
    "        boja_pozadine = atributi[\"background_color\"]\n",
    "        datoteka_audio = atributi[\"audio_file\"]\n",
    "        datoteka_animacije = atributi[\"image_file\"]\n",
    "\n",
    "        with st.sidebar:\n",
    "            autoplay_audio(datoteka_audio)\n",
    "\n",
    "            lottie_coding = ucitaj_loattiefile(datoteka_animacije)\n",
    "            st_lottie(\n",
    "                lottie_coding,\n",
    "                speed=1,\n",
    "                reverse=False,\n",
    "                loop=True,\n",
    "                quality=\"low\",\n",
    "                height=220,\n",
    "            )\n",
    "\n",
    "        st.markdown(\n",
    "            f\"\"\"\n",
    "            <style>\n",
    "                .main {{\n",
    "                    background-color: {boja_pozadine} !important;\n",
    "                }}\n",
    "            </style>\n",
    "            \"\"\",\n",
    "            unsafe_allow_html=True,\n",
    "        )\n",
    "\n",
    "        st.write(\n",
    "            f\"Neki od filmova iz vašeg omiljenog žanra: {najgledaniji_zanr_korisnika}\"\n",
    "        )\n",
    "        df_filmovi = pd.DataFrame(\n",
    "            nasumicni_filmovi_zanra(najgledaniji_zanr_korisnika), columns=[\"title\"]\n",
    "        )\n",
    "        prikazi_filmske_postere(df_filmovi)\n",
    "    else:\n",
    "        lottie_coding = ucitaj_loattiefile(\"Animations/welcome.json\")\n",
    "        st_lottie(\n",
    "            lottie_coding, speed=1, reverse=False, loop=True, quality=\"low\", height=220\n",
    "        )\n",
    "\n",
    "        st.write(\n",
    "            \"#### :red[Odaberite barem jedan film kako biste dobili personalizirani sadržaj.]\"\n",
    "        )\n",
    "\n",
    "    odabrani_film = st.selectbox(\n",
    "        \"Napišite ili odaberite film iz padajućeg izbornika:\", lista_naslova\n",
    "    )\n",
    "\n",
    "    if st.button(\"Prikaži preporuke\"):\n",
    "        odabrani_zanrovi = naslov_zanr[odabrani_film]\n",
    "        for zanr in odabrani_zanrovi:\n",
    "            umetni_red(korIme, zanr)\n",
    "\n",
    "        preporuceni_filmovi = dohvati_preporuke(odabrani_film)\n",
    "\n",
    "        prikazi_filmske_postere(preporuceni_filmovi)\n",
    "\n",
    "\n",
    "if autentikacija_status == True:\n",
    "    stranica(autentikator, korIme)\n"
   ]
  }
 ],
 "metadata": {
  "kernelspec": {
   "display_name": "Python 3",
   "language": "python",
   "name": "python3"
  },
  "language_info": {
   "codemirror_mode": {
    "name": "ipython",
    "version": 3
   },
   "file_extension": ".py",
   "mimetype": "text/x-python",
   "name": "python",
   "nbconvert_exporter": "python",
   "pygments_lexer": "ipython3",
   "version": "3.12.0"
  }
 },
 "nbformat": 4,
 "nbformat_minor": 2
}
